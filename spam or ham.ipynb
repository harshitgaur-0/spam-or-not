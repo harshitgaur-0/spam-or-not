{
 "cells": [
  {
   "cell_type": "code",
   "execution_count": 5,
   "metadata": {},
   "outputs": [
    {
     "data": {
      "text/html": [
       "<div>\n",
       "<style scoped>\n",
       "    .dataframe tbody tr th:only-of-type {\n",
       "        vertical-align: middle;\n",
       "    }\n",
       "\n",
       "    .dataframe tbody tr th {\n",
       "        vertical-align: top;\n",
       "    }\n",
       "\n",
       "    .dataframe thead th {\n",
       "        text-align: right;\n",
       "    }\n",
       "</style>\n",
       "<table border=\"1\" class=\"dataframe\">\n",
       "  <thead>\n",
       "    <tr style=\"text-align: right;\">\n",
       "      <th></th>\n",
       "      <th>label</th>\n",
       "      <th>body_text</th>\n",
       "    </tr>\n",
       "  </thead>\n",
       "  <tbody>\n",
       "    <tr>\n",
       "      <th>0</th>\n",
       "      <td>ham</td>\n",
       "      <td>I've been searching for the right words to tha...</td>\n",
       "    </tr>\n",
       "    <tr>\n",
       "      <th>1</th>\n",
       "      <td>spam</td>\n",
       "      <td>Free entry in 2 a wkly comp to win FA Cup fina...</td>\n",
       "    </tr>\n",
       "    <tr>\n",
       "      <th>2</th>\n",
       "      <td>ham</td>\n",
       "      <td>Nah I don't think he goes to usf, he lives aro...</td>\n",
       "    </tr>\n",
       "    <tr>\n",
       "      <th>3</th>\n",
       "      <td>ham</td>\n",
       "      <td>Even my brother is not like to speak with me. ...</td>\n",
       "    </tr>\n",
       "    <tr>\n",
       "      <th>4</th>\n",
       "      <td>ham</td>\n",
       "      <td>I HAVE A DATE ON SUNDAY WITH WILL!!</td>\n",
       "    </tr>\n",
       "  </tbody>\n",
       "</table>\n",
       "</div>"
      ],
      "text/plain": [
       "  label                                          body_text\n",
       "0   ham  I've been searching for the right words to tha...\n",
       "1  spam  Free entry in 2 a wkly comp to win FA Cup fina...\n",
       "2   ham  Nah I don't think he goes to usf, he lives aro...\n",
       "3   ham  Even my brother is not like to speak with me. ...\n",
       "4   ham                I HAVE A DATE ON SUNDAY WITH WILL!!"
      ]
     },
     "execution_count": 5,
     "metadata": {},
     "output_type": "execute_result"
    }
   ],
   "source": [
    "import pandas as pd\n",
    "import numpy as np\n",
    "df=pd.read_csv(\"SMSSpamCollection.tsv\",delimiter=\"\\t\",header=None)\n",
    "df.columns=[\"label\",\"body_text\"]"
   ]
  },
  {
   "cell_type": "code",
   "execution_count": 13,
   "metadata": {},
   "outputs": [],
   "source": [
    "import nltk\n",
    "import string\n",
    "import re\n",
    "from nltk.stem import PorterStemmer \n",
    "from nltk.corpus import stopwords\n",
    "stopwords=stopwords.words(\"english\")\n",
    "ps=PorterStemmer()"
   ]
  },
  {
   "cell_type": "code",
   "execution_count": 27,
   "metadata": {},
   "outputs": [],
   "source": [
    "def cleaning(text):\n",
    "    text_nonpunc=\"\".join([word for word in text if word not in string.punctuation])\n",
    "    text_tokenize=re.split('\\W+',text_nonpunc)\n",
    "    text_stopwords=[ps.stem(word) for word in text_tokenize if word not in stopwords]\n",
    "    return text_stopwords\n",
    "from sklearn.feature_extraction.text import TfidfVectorizer\n",
    "tfid_vec=TfidfVectorizer(analyzer=cleaning)\n",
    "x_tfid=tfid_vec.fit_transform(df[\"body_text\"])\n"
   ]
  },
  {
   "cell_type": "code",
   "execution_count": 51,
   "metadata": {},
   "outputs": [],
   "source": [
    "x_tfid_df=pd.DataFrame(x_tfid.toarray())\n",
    "x_tfid_df[\"body_len\"]=df[\"body_text\"].apply(lambda x: len(x)-len(\" \"))"
   ]
  },
  {
   "cell_type": "code",
   "execution_count": 59,
   "metadata": {},
   "outputs": [],
   "source": [
    "from sklearn.ensemble import RandomForestClassifier\n",
    "from sklearn.metrics import precision_recall_fscore_support as score\n",
    "from sklearn.model_selection import train_test_split"
   ]
  },
  {
   "cell_type": "code",
   "execution_count": 62,
   "metadata": {},
   "outputs": [],
   "source": [
    "x_train,x_test,y_train,y_test=train_test_split(x_tfid_df[:],df[\"label\"])"
   ]
  },
  {
   "cell_type": "code",
   "execution_count": 65,
   "metadata": {},
   "outputs": [
    {
     "name": "stdout",
     "output_type": "stream",
     "text": [
      "EST 10 / DEPTH 10 -------- precision 1.0 / recall 0.288 / accuracy 0.895\n",
      "EST 10 / DEPTH 20 -------- precision 1.0 / recall 0.59 / accuracy 0.94\n",
      "EST 10 / DEPTH 30 -------- precision 1.0 / recall 0.663 / accuracy 0.95\n",
      "EST 10 / DEPTH 50 -------- precision 0.988 / recall 0.834 / accuracy 0.974\n",
      "EST 10 / DEPTH None -------- precision 0.994 / recall 0.81 / accuracy 0.971\n",
      "EST 50 / DEPTH 10 -------- precision 1.0 / recall 0.244 / accuracy 0.889\n",
      "EST 50 / DEPTH 20 -------- precision 1.0 / recall 0.61 / accuracy 0.943\n",
      "EST 50 / DEPTH 30 -------- precision 1.0 / recall 0.673 / accuracy 0.952\n",
      "EST 50 / DEPTH 50 -------- precision 1.0 / recall 0.741 / accuracy 0.962\n",
      "EST 50 / DEPTH None -------- precision 1.0 / recall 0.829 / accuracy 0.975\n",
      "EST 100 / DEPTH 10 -------- precision 1.0 / recall 0.215 / accuracy 0.884\n",
      "EST 100 / DEPTH 20 -------- precision 1.0 / recall 0.6 / accuracy 0.941\n",
      "EST 100 / DEPTH 30 -------- precision 1.0 / recall 0.717 / accuracy 0.958\n",
      "EST 100 / DEPTH 50 -------- precision 1.0 / recall 0.756 / accuracy 0.964\n",
      "EST 100 / DEPTH None -------- precision 1.0 / recall 0.805 / accuracy 0.971\n",
      "EST 150 / DEPTH 10 -------- precision 1.0 / recall 0.273 / accuracy 0.893\n",
      "EST 150 / DEPTH 20 -------- precision 1.0 / recall 0.58 / accuracy 0.938\n",
      "EST 150 / DEPTH 30 -------- precision 1.0 / recall 0.717 / accuracy 0.958\n",
      "EST 150 / DEPTH 50 -------- precision 1.0 / recall 0.766 / accuracy 0.966\n",
      "EST 150 / DEPTH None -------- precision 1.0 / recall 0.824 / accuracy 0.974\n",
      "EST 200 / DEPTH 10 -------- precision 1.0 / recall 0.249 / accuracy 0.889\n",
      "EST 200 / DEPTH 20 -------- precision 1.0 / recall 0.595 / accuracy 0.94\n",
      "EST 200 / DEPTH 30 -------- precision 1.0 / recall 0.712 / accuracy 0.958\n",
      "EST 200 / DEPTH 50 -------- precision 1.0 / recall 0.795 / accuracy 0.97\n",
      "EST 200 / DEPTH None -------- precision 1.0 / recall 0.829 / accuracy 0.975\n"
     ]
    }
   ],
   "source": [
    "def Forest(n_est,max_depth):\n",
    "    rf=RandomForestClassifier(n_estimators=n_est,max_depth=max_depth,n_jobs=-1)\n",
    "    model=rf.fit(x_train,y_train)\n",
    "    y_pred=model.predict(x_test)\n",
    "    precision,recall,fscore,support=score(y_test,y_pred,pos_label=\"spam\",average=\"binary\")\n",
    "    print(\"EST {} / DEPTH {} -------- precision {} / recall {} / accuracy {}\".format(n_est,max_depth,round(precision,3),round(recall,3),round((y_pred==y_test).sum()/len(y_pred),3)))\n",
    "for n_est in [10,50,100,150,200]:\n",
    "    for max_depth in [10,20,30,50,None]:\n",
    "        Forest(n_est,max_depth)\n",
    "    "
   ]
  },
  {
   "cell_type": "code",
   "execution_count": 68,
   "metadata": {},
   "outputs": [
    {
     "name": "stdout",
     "output_type": "stream",
     "text": [
      "precision 1.0 / recall 0.805 / accuracy 0.971\n"
     ]
    }
   ],
   "source": [
    "rf_=RandomForestClassifier(n_estimators=50,max_depth=None,n_jobs=-1)\n",
    "model=rf_.fit(x_train,y_train)\n",
    "y_pred=model.predict(x_test)\n",
    "precision,recall,fscore,support=score(y_test,y_pred,pos_label=\"spam\",average=\"binary\")\n",
    "print( \"precision {} / recall {} / accuracy {}\".format(round(precision,3),round(recall,3),round((y_pred==y_test).sum()/len(y_pred),3)))"
   ]
  },
  {
   "cell_type": "code",
   "execution_count": null,
   "metadata": {},
   "outputs": [],
   "source": []
  }
 ],
 "metadata": {
  "kernelspec": {
   "display_name": "Python 3",
   "language": "python",
   "name": "python3"
  },
  "language_info": {
   "codemirror_mode": {
    "name": "ipython",
    "version": 3
   },
   "file_extension": ".py",
   "mimetype": "text/x-python",
   "name": "python",
   "nbconvert_exporter": "python",
   "pygments_lexer": "ipython3",
   "version": "3.8.5"
  }
 },
 "nbformat": 4,
 "nbformat_minor": 4
}
